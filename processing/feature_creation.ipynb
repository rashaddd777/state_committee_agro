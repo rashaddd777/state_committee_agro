{
 "cells": [
  {
   "cell_type": "markdown",
   "metadata": {},
   "source": [
    "Consolidate & Feature‑Engineer"
   ]
  },
  {
   "cell_type": "code",
   "execution_count": 1,
   "metadata": {},
   "outputs": [
    {
     "name": "stdout",
     "output_type": "stream",
     "text": [
      "Saved tomato_area_features.csv\n",
      "Saved tomato_yield_features.csv\n",
      "Saved tomato_prod_features.csv\n",
      "Saved cucumber_area_features.csv\n",
      "Saved cucumber_yield_features.csv\n",
      "Saved cucumber_prod_features.csv\n",
      "Saved onion_area_features.csv\n",
      "Saved onion_yield_features.csv\n",
      "Saved onion_prod_features.csv\n",
      "Saved potato_area_features.csv\n",
      "Saved potato_yield_features.csv\n",
      "Saved potato_prod_features.csv\n"
     ]
    }
   ],
   "source": [
    "import pandas as pd, os\n",
    "\n",
    "paths = {\n",
    "    \"tomato_area\": \"/Users/rashidkarimov/Desktop/agro/data/processed/cleaned/statistics_committee/tomato_sown_area.csv\",\n",
    "    \"tomato_yield\": \"/Users/rashidkarimov/Desktop/agro/data/processed/cleaned/statistics_committee/tomato_yield.csv\",\n",
    "    \"tomato_prod\": \"/Users/rashidkarimov/Desktop/agro/data/processed/cleaned/statistics_committee/tomato_production.csv\",\n",
    "    \"cucumber_area\": \"/Users/rashidkarimov/Desktop/agro/data/processed/cleaned/statistics_committee/cucmber_sown_area.csv\",\n",
    "    \"cucumber_yield\": \"/Users/rashidkarimov/Desktop/agro/data/processed/cleaned/statistics_committee/cucumber_yield.csv\",\n",
    "    \"cucumber_prod\": \"/Users/rashidkarimov/Desktop/agro/data/processed/cleaned/statistics_committee/cucumber_production.csv\",\n",
    "    \"onion_area\": \"/Users/rashidkarimov/Desktop/agro/data/processed/cleaned/statistics_committee/onion_sownarea.csv\",\n",
    "    \"onion_yield\": \"/Users/rashidkarimov/Desktop/agro/data/processed/cleaned/statistics_committee/onion_yield.csv\",\n",
    "    \"onion_prod\": \"/Users/rashidkarimov/Desktop/agro/data/processed/cleaned/statistics_committee/onion_production.csv\",\n",
    "    \"potato_area\": \"/Users/rashidkarimov/Desktop/agro/data/processed/cleaned/statistics_committee/potato_sownarea.csv\",\n",
    "    \"potato_yield\": \"/Users/rashidkarimov/Desktop/agro/data/processed/cleaned/statistics_committee/potato_yield.csv\",\n",
    "    \"potato_prod\": \"/Users/rashidkarimov/Desktop/agro/data/processed/cleaned/statistics_committee/potato_production.csv\"\n",
    "}\n",
    "\n",
    "output_dir = \"/Users/rashidkarimov/Desktop/agro/data/processed/analysis\"\n",
    "os.makedirs(output_dir, exist_ok=True)\n",
    "\n",
    "for name, path in paths.items():\n",
    "    df = pd.read_csv(path)\n",
    "    long = df.melt(id_vars=\"Setting\", var_name=\"year\", value_name=name).assign(year=lambda x: x[\"year\"].astype(int))\n",
    "    yrs = sorted(long[\"year\"].unique())\n",
    "    first5, last5 = yrs[:5], yrs[-5:]\n",
    "    periods = len(yrs) - 1\n",
    "\n",
    "    wide = long.pivot(index=\"Setting\", columns=\"year\", values=name)\n",
    "    first5_sum = wide[first5].sum(axis=1)\n",
    "    last5_sum = wide[last5].sum(axis=1)\n",
    "    growth = last5_sum - first5_sum\n",
    "    std_dev = wide.std(axis=1)\n",
    "    cagr = (wide[yrs[-1]] / wide[yrs[0]]) ** (1/periods) - 1\n",
    "\n",
    "    long[\"first5_sum\"] = long[\"Setting\"].map(first5_sum)\n",
    "    long[\"last5_sum\"]  = long[\"Setting\"].map(last5_sum)\n",
    "    long[\"growth\"]     = long[\"Setting\"].map(growth)\n",
    "    long[\"std_dev\"]    = long[\"Setting\"].map(std_dev)\n",
    "    long[\"cagr\"]       = long[\"Setting\"].map(cagr)\n",
    "\n",
    "    long.to_csv(os.path.join(output_dir, f\"{name}_features.csv\"), index=False)\n",
    "    print(f\"Saved {name}_features.csv\")\n"
   ]
  }
 ],
 "metadata": {
  "kernelspec": {
   "display_name": "venv",
   "language": "python",
   "name": "python3"
  },
  "language_info": {
   "codemirror_mode": {
    "name": "ipython",
    "version": 3
   },
   "file_extension": ".py",
   "mimetype": "text/x-python",
   "name": "python",
   "nbconvert_exporter": "python",
   "pygments_lexer": "ipython3",
   "version": "3.13.2"
  }
 },
 "nbformat": 4,
 "nbformat_minor": 2
}
